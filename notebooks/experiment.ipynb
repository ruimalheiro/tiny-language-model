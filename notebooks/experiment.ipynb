{
 "cells": [
  {
   "cell_type": "code",
   "execution_count": 1,
   "id": "3d54b538-e96d-4653-ab2f-c6fe804e462e",
   "metadata": {},
   "outputs": [],
   "source": [
    "import torch\n",
    "import torch.nn as nn\n",
    "import numpy as np\n",
    "import random\n",
    "import gc\n",
    "import pickle\n",
    "import math\n",
    "import requests\n",
    "import matplotlib.pyplot as plt\n",
    "import json\n",
    "import ijson\n",
    "import gradio as gr\n",
    "import datasets\n",
    "import pandas as pd\n",
    "import re\n",
    "\n",
    "from torch.utils.data import Dataset, DataLoader\n",
    "from transformers import GPT2Tokenizer\n",
    "from tqdm import tqdm"
   ]
  },
  {
   "cell_type": "code",
   "execution_count": 2,
   "id": "7ae35053-bb1f-4756-81e3-e41f3ceb652f",
   "metadata": {},
   "outputs": [],
   "source": [
    "seed = 42\n",
    "torch.manual_seed(seed)\n",
    "np.random.seed(seed)\n",
    "random.seed(seed)\n",
    "\n",
    "torch.cuda.manual_seed(seed)\n",
    "torch.cuda.manual_seed_all(seed)"
   ]
  },
  {
   "cell_type": "code",
   "execution_count": 3,
   "id": "b8f6c5a4-58a3-4ed6-bb5c-79b2d86f97c3",
   "metadata": {},
   "outputs": [],
   "source": [
    "def clean_gpu():\n",
    "    gc.collect()\n",
    "    torch.cuda.empty_cache()\n",
    "\n",
    "def save_artifact(file, data):\n",
    "    with open(file, 'wb') as f:\n",
    "        pickle.dump(data, f)\n",
    "\n",
    "def load_artifact(file):\n",
    "    with open(file, 'rb') as f:\n",
    "        encodings = pickle.load(f)\n",
    "        return encodings\n",
    "\n",
    "def save_checkpoint(train_losses, val_losses, model, optimizer, scheduler, version):\n",
    "    save_artifact(f'artifacts/train_losses{version}.pkl', train_losses)\n",
    "    save_artifact(f'artifacts/val_losses{version}.pkl', val_losses)\n",
    "    torch.save(model.state_dict(), f'artifacts/my_gpt{version}.pth')\n",
    "    torch.save(optimizer.state_dict(), f'artifacts/my_optimizer{version}.pth')\n",
    "    save_artifact(f'artifacts/scheduler_step{version}.pkl', scheduler.step_number)\n",
    "    print(f'Saved checkpoint version {version}')\n",
    "\n",
    "def load_checkpoint(train_losses, val_losses, model, optimizer, scheduler, version):\n",
    "    for l in load_artifact(f'artifacts/train_losses{version}.pkl'):\n",
    "        train_losses.append(l)\n",
    "    for l in load_artifact(f'artifacts/val_losses{version}.pkl'):\n",
    "        val_losses.append(l)\n",
    "    model.load_state_dict(torch.load(f'artifacts/my_gpt{version}.pth'))\n",
    "    optimizer.load_state_dict(torch.load(f'artifacts/my_optimizer{version}.pth'))\n",
    "    scheduler.step_number = load_artifact(f'artifacts/scheduler_step{version}.pkl')\n",
    "\n",
    "def load_text_file(file_path):\n",
    "    with open(file_path, 'r', encoding='utf-8') as file:\n",
    "        file_contents = file.read()\n",
    "    return file_contents"
   ]
  },
  {
   "cell_type": "code",
   "execution_count": 4,
   "id": "aad17d10-a204-43a8-a199-14b80a01033d",
   "metadata": {},
   "outputs": [],
   "source": [
    "class MultiHeadSelfAttention(nn.Module):\n",
    "    def __init__(self, embedding_size, number_of_heads):\n",
    "        super(MultiHeadSelfAttention, self).__init__()\n",
    "\n",
    "        self.embedding_size = embedding_size\n",
    "        self.number_of_heads = number_of_heads\n",
    "\n",
    "        assert(\n",
    "            embedding_size % number_of_heads == 0\n",
    "        ), \"The embedding size must be divisible by the number of heads.\"\n",
    "\n",
    "        self.head_dimension = embedding_size // number_of_heads\n",
    "\n",
    "        self.queries = nn.Linear(self.embedding_size, self.embedding_size, bias = False)\n",
    "        self.keys = nn.Linear(self.embedding_size, self.embedding_size, bias = False)\n",
    "        self.values = nn.Linear(self.embedding_size, self.embedding_size, bias = False)\n",
    "        self.fully_connected = nn.Linear(self.embedding_size, self.embedding_size)\n",
    "\n",
    "    def forward(self, values, keys, query, mask):\n",
    "        batch_size = values.shape[0]\n",
    "\n",
    "        value_len, key_len, query_len = values.shape[1], keys.shape[1], query.shape[1]\n",
    "\n",
    "        queries = self.queries(query).view(batch_size, query_len, self.number_of_heads, self.head_dimension)\n",
    "        keys = self.keys(keys).view(batch_size, key_len, self.number_of_heads, self.head_dimension)\n",
    "        values = self.values(values).view(batch_size, value_len, self.number_of_heads, self.head_dimension)\n",
    "\n",
    "        raw_attention_scores = torch.einsum('bqhd,bkhd->bhqk', [queries, keys])\n",
    "        raw_attention_scores /= self.head_dimension ** (1/2)\n",
    "\n",
    "        causal_mask = torch.tril(torch.ones((query_len, query_len), device=query.device)).unsqueeze(0)\n",
    "\n",
    "        raw_attention_scores = raw_attention_scores.masked_fill(causal_mask == 0, float('-1e20'))\n",
    "\n",
    "        if mask is not None:\n",
    "            _mask = mask.unsqueeze(1).unsqueeze(-1)\n",
    "            raw_attention_scores = raw_attention_scores.masked_fill(_mask == 0, float('-1e20'))\n",
    "\n",
    "        attention = torch.nn.functional.softmax(raw_attention_scores, dim=3)\n",
    "\n",
    "        out = torch.einsum('bhql,blhd->bqhd', [attention, values])\n",
    "        out = out.reshape(batch_size, query_len, -1)\n",
    "        out = self.fully_connected(out)\n",
    "\n",
    "        return out\n",
    "\n",
    "\n",
    "class TransformerBlock(nn.Module):\n",
    "    def __init__(self, embedding_size, number_of_heads, dropout_rate, feed_forward_scale):\n",
    "        super(TransformerBlock, self).__init__()\n",
    "        self.attention = MultiHeadSelfAttention(embedding_size, number_of_heads)\n",
    "        self.dropout1 = nn.Dropout(dropout_rate)\n",
    "        self.normalization1 = nn.LayerNorm(embedding_size)\n",
    "        self.feed_forward_network = nn.Sequential(\n",
    "            nn.Linear(embedding_size, embedding_size * feed_forward_scale),\n",
    "            nn.ReLU(),\n",
    "            nn.Dropout(dropout_rate),\n",
    "            nn.Linear(embedding_size * feed_forward_scale, embedding_size)\n",
    "        )\n",
    "        self.dropout2 = nn.Dropout(dropout_rate)\n",
    "        self.normalization2 = nn.LayerNorm(embedding_size)\n",
    "    def forward(self, values, keys, query, mask):\n",
    "        attention_output = self.attention(values, keys, query, mask)\n",
    "        attention_output = self.dropout1(attention_output)\n",
    "        add_and_norm1 = self.normalization1(attention_output + query)\n",
    "\n",
    "        feed_forward_network_output = self.feed_forward_network(add_and_norm1)\n",
    "        feed_forward_network_output = self.dropout2(feed_forward_network_output)\n",
    "        add_and_norm2 = self.normalization2(feed_forward_network_output + add_and_norm1)\n",
    "\n",
    "        output = add_and_norm2\n",
    "        return output\n",
    "\n",
    "\n",
    "class PositionalEncoding(nn.Module):\n",
    "    def __init__(self, embedding_size, max_length):\n",
    "        super(PositionalEncoding, self).__init__()\n",
    "        self.encoding = torch.zeros(max_length, embedding_size)\n",
    "        self.encoding.requires_grad=False\n",
    "\n",
    "        positions = torch.arange(0, max_length).unsqueeze(1).float()\n",
    "\n",
    "        scaling_factor = torch.arange(0, embedding_size, 2).float() * (-math.log(10000) / embedding_size)\n",
    "        scaling_factor = torch.exp(scaling_factor)\n",
    "\n",
    "        self.encoding[:, 0::2] = torch.sin(positions * scaling_factor)\n",
    "        self.encoding[:, 1::2] = torch.cos(positions * scaling_factor)\n",
    "\n",
    "    def forward(self, x):\n",
    "        batch_size, sequence_length = x.size(0), x.size(1)\n",
    "        return self.encoding[:sequence_length, :].unsqueeze(0).repeat(batch_size, 1, 1).to(x.device)\n",
    "\n",
    "\n",
    "class TransformerModel(nn.Module):\n",
    "    def __init__(self, vocabulary_size, embedding_size, number_of_heads, number_of_layers, max_length, dropout_rate, feed_forward_scale):\n",
    "        clean_gpu()\n",
    "        \n",
    "        super(TransformerModel, self).__init__()\n",
    "        self.device = torch.device('cuda') if torch.cuda.is_available() else 'cpu'\n",
    "        self.embedding_size = embedding_size\n",
    "        \n",
    "        self.vocabulary_size = vocabulary_size\n",
    "        self.embedding = nn.Embedding(vocabulary_size, embedding_size)\n",
    "        self.positional_encoding = PositionalEncoding(embedding_size, max_length)\n",
    "        self.layers = nn.ModuleList(\n",
    "            [\n",
    "                TransformerBlock(embedding_size, number_of_heads, dropout_rate, feed_forward_scale) for _ in range(number_of_layers)\n",
    "            ]\n",
    "        )\n",
    "        self.output_layer = nn.Linear(embedding_size, vocabulary_size)\n",
    "\n",
    "        self.to(self.device)\n",
    "\n",
    "    def forward(self, x, mask):\n",
    "        embeddings = self.embedding(x)\n",
    "        embeddings = embeddings + self.positional_encoding(x)\n",
    "        for layer in self.layers:\n",
    "            embeddings = layer(embeddings, embeddings, embeddings, mask)\n",
    "        logits = self.output_layer(embeddings)\n",
    "        return logits\n",
    "\n",
    "    def convert_temperature(self, x):\n",
    "        # map [A, B] to [C, D] -> C + ( ( (x - A) * (D - C) ) / (B - A) )\n",
    "        return 0.1 + ( ( (x - 0) * (2 - 0.1) ) / (1 - 0) )\n",
    "\n",
    "    def top_p(self, logits, top_p):\n",
    "        sorted_logits, sorted_indices = torch.sort(logits, descending=True)\n",
    "        probabilities = torch.nn.functional.softmax(sorted_logits, dim=-1)\n",
    "        cumulative_probabilities = torch.cumsum(probabilities, dim=-1)\n",
    "\n",
    "        sorted_indices_to_remove = cumulative_probabilities > top_p\n",
    "        sorted_indices_to_remove[..., 1:] = sorted_indices_to_remove[..., :-1].clone()\n",
    "        sorted_indices_to_remove[..., 0] = 0\n",
    "\n",
    "        sorted_indices = sorted_indices.unsqueeze(0)\n",
    "        sorted_indices_to_remove = sorted_indices_to_remove.unsqueeze(0)\n",
    "\n",
    "        indices_to_remove = sorted_indices.scatter(1, sorted_indices, sorted_indices_to_remove.to(dtype=sorted_indices.dtype))\n",
    "        logits[indices_to_remove] = -float('inf')\n",
    "        return logits\n",
    "\n",
    "    def generate_text(self, tokenizer, prompt, max_length, temperature, top_p, return_text=False):\n",
    "        self.eval()\n",
    "        encodings = tokenizer.encode(prompt)\n",
    "        for _ in range(max_length):\n",
    "            input_ids = torch.tensor([encodings]).to(self.device)\n",
    "            mask = (input_ids != 0).float().to(self.device)\n",
    "            \n",
    "            logits = self(input_ids, mask)[0, -1, :]\n",
    "\n",
    "            logits = logits / self.convert_temperature(temperature)\n",
    "\n",
    "            logits = self.top_p(logits, top_p)\n",
    "\n",
    "            probabilities = torch.nn.functional.softmax(logits, dim=-1)\n",
    "            next_token_id = torch.multinomial(probabilities, 1).item()\n",
    "            \n",
    "            if next_token_id == tokenizer.eos_token_id:\n",
    "                break\n",
    "\n",
    "            encodings += [next_token_id]\n",
    "\n",
    "        generated_text = tokenizer.decode(encodings)\n",
    "\n",
    "        i = 0\n",
    "        generated_text = generated_text.split(SECTION_TOKEN)[0]\n",
    "        generated_text_question = generated_text.split(ANSWER_TOKEN)\n",
    "        if len(generated_text_question) > 1:\n",
    "            generated_text = generated_text_question[1]\n",
    "\n",
    "        generated_text = re.sub(r\"\\(Source: [^)]*\\)\", \"\", generated_text)\n",
    "        generated_text = generated_text.strip()\n",
    "        \n",
    "        if return_text:\n",
    "            return generated_text\n",
    "        print(generated_text)"
   ]
  },
  {
   "cell_type": "code",
   "execution_count": 5,
   "id": "3307f936-d088-4ba8-bdfe-ed535c4fd058",
   "metadata": {},
   "outputs": [],
   "source": [
    "class NoamScheduler:\n",
    "    def __init__(self, optimizer, warmup_steps, embedding_size, min_lr=1e-9):\n",
    "        self.optimizer = optimizer\n",
    "        self.warmup_steps = warmup_steps\n",
    "        self.embedding_size = embedding_size\n",
    "        self.step_number = 0\n",
    "        self.min_lr = min_lr\n",
    "        self.initial_lr = next(iter(optimizer.param_groups))['lr']\n",
    "        self.last_learning_rate = self.initial_lr\n",
    "\n",
    "    def step(self):\n",
    "        self.step_number += 1\n",
    "        learning_rate = self.embedding_size ** -0.5 * min(self.step_number ** -0.5, self.step_number * self.warmup_steps ** -1.5)\n",
    "        self.last_learning_rate = learning_rate\n",
    "        learning_rate = max(learning_rate, self.min_lr)\n",
    "        \n",
    "        for p in self.optimizer.param_groups:\n",
    "            p['lr'] = learning_rate"
   ]
  },
  {
   "cell_type": "code",
   "execution_count": 54,
   "id": "b9c0f537-c85f-4265-a75d-86139db1791c",
   "metadata": {},
   "outputs": [],
   "source": [
    "def plot_loss(train_losses, val_losses):\n",
    "    plt.plot(train_losses, label='Training Loss')\n",
    "    plt.plot(val_losses, label='Validation Loss')\n",
    "    \n",
    "    plt.title('Training and Validation Loss over Epochs')\n",
    "    plt.xlabel('Epoch')\n",
    "    plt.ylabel('Loss')\n",
    "    plt.legend()\n",
    "    plt.show()\n",
    "\n",
    "def print_model_params(model, return_text=False):\n",
    "    NUMBER_OF_PARAMETERS_LABEL = round(sum(p.numel() for p in model.parameters())/1e6), 'M parameters'\n",
    "    NUMBER_OF_PARAMETERS_LABEL = str(NUMBER_OF_PARAMETERS_LABEL[0]) + ' ' + NUMBER_OF_PARAMETERS_LABEL[1]\n",
    "    print(NUMBER_OF_PARAMETERS_LABEL)\n",
    "    if return_text:\n",
    "        return NUMBER_OF_PARAMETERS_LABEL\n",
    "\n",
    "def get_lr(optimizer, scheduler):\n",
    "    if scheduler is not None:\n",
    "        return scheduler.last_learning_rate\n",
    "    lrs = []\n",
    "    for p in optimizer.param_groups:\n",
    "        lrs.append(p['lr'])\n",
    "    return lrs\n",
    "\n",
    "def training_loop(dataloader, model, loss_function, optimizer, clip_value, scheduler, log_every, accumulation_steps):\n",
    "    total_loss = 0\n",
    "    num_batches = 0\n",
    "    latest_loss = None\n",
    "    model.train()\n",
    "    optimizer.zero_grad()\n",
    "    for i, batch in enumerate(tqdm(dataloader, desc=\"Training... Processing batches\")):\n",
    "        input_ids = batch['input_ids'].to(model.device)\n",
    "        attention_mask = batch['attention_mask'].to(model.device)\n",
    "        labels = batch['labels'].to(model.device)\n",
    "\n",
    "        outputs = model(input_ids, attention_mask)\n",
    "        \n",
    "        loss = loss_function(outputs.view(-1, model.vocabulary_size), labels.view(-1)) / accumulation_steps\n",
    "        \n",
    "        loss.backward()\n",
    "\n",
    "        latest_loss = loss.item() * accumulation_steps\n",
    "        total_loss += latest_loss\n",
    "        num_batches += 1\n",
    "\n",
    "        if (i + 1) % accumulation_steps == 0:\n",
    "            torch.nn.utils.clip_grad_norm_(model.parameters(), clip_value)\n",
    "            \n",
    "            optimizer.step()\n",
    "            optimizer.zero_grad()\n",
    "            \n",
    "            if scheduler is not None:\n",
    "                scheduler.step()\n",
    "    \n",
    "            if (i + 1) // accumulation_steps % log_every == 0:\n",
    "                print(f\"Batch {i+1} with size {input_ids.shape[0] * accumulation_steps}: Train Loss = {loss.item()}  |   With learning rate: {get_lr(optimizer, scheduler)}\")\n",
    "\n",
    "    if latest_loss is not None:\n",
    "        print(f\"Train Loss = {latest_loss}  |   With learning rate: {get_lr(optimizer, scheduler)}\")\n",
    "        \n",
    "    return total_loss / num_batches\n",
    "\n",
    "def validation_loop(dataloader, model, loss_function, log_every):\n",
    "    total_loss = 0\n",
    "    num_batches = 0\n",
    "    latest_loss = None\n",
    "    model.eval()\n",
    "    with torch.no_grad():\n",
    "        for i, batch in enumerate(tqdm(dataloader, desc=\"Validation... Processing batches\")):\n",
    "            input_ids = batch['input_ids'].to(model.device)\n",
    "            attention_mask = batch['attention_mask'].to(model.device)\n",
    "            labels = batch['labels'].to(model.device)\n",
    "    \n",
    "            outputs = model(input_ids, attention_mask)\n",
    "            loss = loss_function(outputs.view(-1, model.vocabulary_size), labels.view(-1))\n",
    "\n",
    "            latest_loss = loss.item()\n",
    "            total_loss += latest_loss\n",
    "            num_batches += 1\n",
    "    \n",
    "            if (i + 1) % log_every == 0:\n",
    "                print(f\"Batch {i+1}: Validation Loss = {loss.item()}\")\n",
    "\n",
    "    if latest_loss is not None:\n",
    "        print(f\"Validation Loss = {latest_loss}\")\n",
    "    \n",
    "    return total_loss / num_batches\n",
    "\n",
    "def train(train_dataloader, val_dataloader, model, loss_function, optimizer, scheduler, number_of_epochs, train_losses, val_losses, clip_value=1.0, plot=False, log_every=1000, patience=5, min_delta=0.001, accumulation_steps=1, save_version=None):\n",
    "    print_model_params(model)\n",
    "    clean_gpu()\n",
    "    best_val_loss = min(val_losses) if val_losses else float('inf')\n",
    "    epochs_no_improve = 0\n",
    "    \n",
    "    for epoch in range(number_of_epochs):\n",
    "        epoch_train_loss = training_loop(train_dataloader, model, loss_function, optimizer, clip_value, scheduler, log_every, accumulation_steps)\n",
    "        train_losses.append(epoch_train_loss)\n",
    "        \n",
    "        epoch_val_loss = validation_loop(val_dataloader, model, loss_function, log_every)\n",
    "        val_losses.append(epoch_val_loss)\n",
    "\n",
    "        print(f'Epoch {epoch+1}/{number_of_epochs} - Train Loss: {epoch_train_loss}, Validation Loss: {epoch_val_loss}')\n",
    "\n",
    "        if plot:\n",
    "            plot_loss(train_losses, val_losses)\n",
    "\n",
    "        if epoch_val_loss < best_val_loss - min_delta:\n",
    "            best_val_loss = epoch_val_loss\n",
    "            epochs_no_improve = 0\n",
    "\n",
    "            if save_version is not None:\n",
    "                save_checkpoint(train_losses, val_losses, model, optimizer, scheduler, save_version)\n",
    "        else:\n",
    "            if save_version is not None:\n",
    "                print(f'Not saving as it did not improve. Best validation loss so far: {best_val_loss}')\n",
    "            epochs_no_improve += 1\n",
    "\n",
    "        if epochs_no_improve >= patience:\n",
    "            print(f'Early stopping triggered: Validation loss did not improve for {patience} consecutive epochs.')\n",
    "            break\n",
    "\n",
    "    clean_gpu()"
   ]
  },
  {
   "cell_type": "code",
   "execution_count": 7,
   "id": "ffd35912-5d2e-48bc-8f89-e4346931c342",
   "metadata": {},
   "outputs": [],
   "source": [
    "class TextDataset(Dataset):\n",
    "    def __init__(self, encodings, end_of_sentence_token_id):\n",
    "        self.encodings = encodings\n",
    "        self.eos_token_id = end_of_sentence_token_id\n",
    "\n",
    "    def __len__(self):\n",
    "        return len(self.encodings['input_ids'])\n",
    "\n",
    "    def __getitem__(self, idx):\n",
    "        return {key: torch.tensor(val[idx], dtype=torch.long) for key, val in self.encodings.items()}"
   ]
  },
  {
   "cell_type": "code",
   "execution_count": 8,
   "id": "69d040fa-3251-4415-98d2-6b0344594ef9",
   "metadata": {},
   "outputs": [],
   "source": [
    "def temp_split(encodings, max_length):\n",
    "    if len(encodings) <= max_length:\n",
    "        return [encodings]\n",
    "    result = []\n",
    "    for i in range(len(encodings)):\n",
    "        result.append(encodings[i: i + max_length])\n",
    "    return result\n",
    "\n",
    "def prepare_sequences(encodings_list, max_length, pad_token_id):\n",
    "    sequences = {'input_ids': [], 'attention_mask': [], 'labels': []}\n",
    "\n",
    "    for _qa in encodings_list:\n",
    "        for qa in temp_split(_qa, max_length):\n",
    "        \n",
    "            attention_mask = torch.ones(len(qa), dtype=torch.long)\n",
    "    \n",
    "            padding_length = max_length - len(qa)\n",
    "            \n",
    "            padding = torch.tensor([pad_token_id] * padding_length, dtype=torch.long)\n",
    "    \n",
    "            qa = torch.cat([qa, padding])\n",
    "            attention_mask = torch.cat([attention_mask, torch.zeros(padding_length, dtype=torch.long)])\n",
    "    \n",
    "            labels = torch.cat([qa[1:], torch.full((max_length - (len(qa) - 1),), pad_token_id, dtype=torch.long)])\n",
    "    \n",
    "            sequences['input_ids'].append(qa)\n",
    "            sequences['attention_mask'].append(attention_mask)\n",
    "            sequences['labels'].append(labels)\n",
    "\n",
    "    for key in sequences:\n",
    "        sequences[key] = torch.stack(sequences[key])\n",
    "\n",
    "    return sequences\n",
    "\n",
    "def generate_sequences(encodings, max_length, pad_token_id=0):\n",
    "    sequences = {'input_ids': [], 'attention_mask': [], 'labels': []}\n",
    "    for i in range(0, len(encodings), max_length):\n",
    "        seq = encodings[i:i + max_length]\n",
    "        \n",
    "        next_seq = encodings[i + 1:i + max_length + 1]\n",
    "        if len(next_seq) < max_length:\n",
    "            next_seq = torch.cat([next_seq, torch.tensor([pad_token_id] * (max_length - len(next_seq)), dtype=torch.long)])\n",
    "\n",
    "        attention_mask = torch.ones(len(seq), dtype=torch.long)\n",
    "\n",
    "        if len(seq) < max_length:\n",
    "            padding = torch.tensor([pad_token_id] * (max_length - len(seq)), dtype=torch.long)\n",
    "            seq = torch.cat([seq, padding])\n",
    "            attention_mask = torch.cat([attention_mask, torch.zeros(len(padding), dtype=torch.long)])\n",
    "\n",
    "        sequences['input_ids'].append(seq)\n",
    "        sequences['attention_mask'].append(attention_mask)\n",
    "        sequences['labels'].append(next_seq)\n",
    "\n",
    "    for key in sequences:\n",
    "        sequences[key] = torch.stack(sequences[key])\n",
    "\n",
    "    return sequences\n",
    "\n",
    "def split_data(data, percentage):\n",
    "    n = int(percentage * len(data))\n",
    "    _train_data = data[:n]\n",
    "    _val_data = data[n:]\n",
    "    return _train_data, _val_data\n",
    "\n",
    "def trim(sequences, length):\n",
    "    sequences['input_ids'] = sequences['input_ids'][:length]\n",
    "    sequences['attention_mask'] = sequences['attention_mask'][:length]\n",
    "    sequences['labels'] = sequences['labels'][:length]\n",
    "\n",
    "def add_sequences(sequences):\n",
    "    input_ids = torch.cat([seq['input_ids'] for seq in sequences])\n",
    "    attention_masks = torch.cat([seq['attention_mask'] for seq in sequences])\n",
    "    labels = torch.cat([seq['labels'] for seq in sequences])\n",
    "\n",
    "    result = {\n",
    "        'input_ids': input_ids,\n",
    "        'attention_mask': attention_masks,\n",
    "        'labels': labels\n",
    "    }\n",
    "    return result\n",
    "\n",
    "\n",
    "def split_and_encode_sequences(sequences, percentage, tokenizer, max_length):\n",
    "    train_data, val_data = split_data(sequences, 0.8)\n",
    "    train_data = [torch.tensor(tokenizer.encode(pair), dtype=torch.long) for pair in train_data]\n",
    "    val_data = [torch.tensor(tokenizer.encode(pair), dtype=torch.long) for pair in val_data]\n",
    "    train_sequences = prepare_sequences(train_data, max_length, pad_token_id=tokenizer.pad_token_id)\n",
    "    val_sequences = prepare_sequences(val_data, max_length, pad_token_id=tokenizer.pad_token_id)\n",
    "    return train_sequences, val_sequences\n",
    "\n",
    "def split_and_encode_text(text, percentage, tokenizer, max_length):\n",
    "    encoded_data = torch.tensor(tokenizer.encode(text), dtype=torch.long)\n",
    "    n = int(percentage * len(encoded_data))\n",
    "    train_data = encoded_data[:n]\n",
    "    val_data = encoded_data[n:]\n",
    "    train_sentences = generate_sequences(train_data, max_length, pad_token_id=tokenizer.pad_token_id)\n",
    "    val_sentences = generate_sequences(val_data, max_length, pad_token_id=tokenizer.pad_token_id)\n",
    "    return train_sentences, val_sentences"
   ]
  },
  {
   "cell_type": "code",
   "execution_count": 9,
   "id": "8eb14e76-9f9a-4df7-9b47-2e6e911db509",
   "metadata": {},
   "outputs": [
    {
     "data": {
      "text/plain": [
       "1"
      ]
     },
     "execution_count": 9,
     "metadata": {},
     "output_type": "execute_result"
    }
   ],
   "source": [
    "tokenizer = GPT2Tokenizer.from_pretrained('gpt2')\n",
    "tokenizer.pad_token = tokenizer.eos_token\n",
    "\n",
    "SECTION_TOKEN = '<|section|>'\n",
    "QUESTION_TOKEN = '<|question|>'\n",
    "ANSWER_TOKEN = '<|answer|>'\n",
    "\n",
    "tokenizer.add_tokens(SECTION_TOKEN)\n",
    "tokenizer.add_tokens(QUESTION_TOKEN)\n",
    "tokenizer.add_tokens(ANSWER_TOKEN)"
   ]
  },
  {
   "cell_type": "code",
   "execution_count": 10,
   "id": "1a6e4ad8-51e8-4049-9d0e-828173b716ee",
   "metadata": {},
   "outputs": [],
   "source": [
    "MAX_SENTENCE_LENGTH = 512"
   ]
  },
  {
   "cell_type": "code",
   "execution_count": 11,
   "id": "8bb1d1c8-cea1-4bab-bebf-36d1a3140825",
   "metadata": {},
   "outputs": [
    {
     "data": {
      "text/plain": [
       "(24905,\n",
       " 8741578,\n",
       " \"COWBOY BEBOP : Crime is timeless. By the year 2071, humanity has expanded across the galaxy, filling the surface of other planets with settlements like those on Earth. These new societies are plagued by murder, drug use, and theft, and intergalactic outlaws are hunted by a growing number of tough bounty hunters.\\n\\nSpike Spiegel and Jet Black pursue criminals throughout space to make a humble living. Beneath his goofy and aloof demeanor, Spike is haunted by the weight of his violent past. Meanwhile, Jet manages his own troubled memories while taking care of Spike and the Bebop, their ship. The duo is joined by the beautiful con artist Faye Valentine, odd child Edward Wong Hau Pepelu Tivrusky IV, and Ein, a bioengineered Welsh Corgi.\\n\\nWhile developing bonds and working to catch a colorful cast of criminals, the Bebop crew's lives are disrupted by a menace from Spike's past. As a rival's maniacal plot continues to unravel, Spike must choose between life with his newfound family or revenge for his old wounds.\")"
      ]
     },
     "execution_count": 11,
     "metadata": {},
     "output_type": "execute_result"
    }
   ],
   "source": [
    "chunk_size = 10000\n",
    "chunks = []\n",
    "for chunk in pd.read_csv(\"datasets/anime/anime-dataset-2023.csv\", chunksize=chunk_size):\n",
    "    chunks.append(chunk)\n",
    "df = pd.concat(chunks, axis=0)\n",
    "df = df[df['Name']!='UNKNOWN']\n",
    "# df['Synopsis'] = df['Synopsis'].str.replace('\\n', ' ').str.replace(r'[^\\x00-\\x7F]+', '').str.replace('[^A-Za-z0-9 :.,!?]+', '')\n",
    "df['Name'] = df['Name'].str.upper()\n",
    "# df['combined_text'] = df['Name'] + ' : ' + df['Synopsis'] + ' ' + tokenizer.eos_token\n",
    "df['combined_text'] = df['Name'] + ' : ' + df['Synopsis']\n",
    "anime_data = df['combined_text'].tolist()\n",
    "anime_text_length = 0\n",
    "for e in anime_data:\n",
    "    anime_text_length += len(e)\n",
    "TARGET_SIZE = len(anime_data)\n",
    "len(anime_data), anime_text_length, anime_data[0]"
   ]
  },
  {
   "cell_type": "code",
   "execution_count": 12,
   "id": "c968a1b1-78f0-4142-bb85-47f1d9a0c24a",
   "metadata": {},
   "outputs": [
    {
     "data": {
      "text/plain": [
       "(24905,\n",
       " 10406017,\n",
       " 'ANARCHISM : Anarchism is a political philosophy and movement that is sceptical of authority and rejects all involuntary, coercive forms of hierarchy. Anarchism calls for the abolition of the state, which it holds to be unnecessary, undesirable, and harmful. As a historically left-wing movement, placed on the farthest left of the political spectrum, it is usually described alongside communalism and libertarian Marxism as the libertarian wing (libertarian socialism) of the socialist movement, and has a strong historical association with anti-capitalism and socialism.')"
      ]
     },
     "execution_count": 12,
     "metadata": {},
     "output_type": "execute_result"
    }
   ],
   "source": [
    "wiki_data_source = datasets.load_dataset('wikipedia', '20220301.en', cache_dir='datasets/llm/')\n",
    "\n",
    "wiki_data = []\n",
    "wiki_text_length = 0\n",
    "for ob in wiki_data_source['train']:\n",
    "    if len(wiki_data) >= TARGET_SIZE:\n",
    "        break\n",
    "    _text = ob['title'].upper() + ' : ' + ob['text'].split('\\n\\n', 1)[0]\n",
    "    wiki_text_length += len(_text)\n",
    "    wiki_data.append(_text)\n",
    "\n",
    "len(wiki_data), wiki_text_length, wiki_data[0]"
   ]
  },
  {
   "cell_type": "code",
   "execution_count": 13,
   "id": "a584c787-c9fd-4b74-a33a-382a908eaed8",
   "metadata": {},
   "outputs": [
    {
     "data": {
      "text/plain": [
       "(11313,\n",
       " 1328380,\n",
       " '<|question|> Who was the man behind The Chipmunks? <|answer|> David Seville')"
      ]
     },
     "execution_count": 13,
     "metadata": {},
     "output_type": "execute_result"
    }
   ],
   "source": [
    "# url = \"http://nlp.cs.washington.edu/triviaqa/data/triviaqa-unfiltered.tar.gz\"\n",
    "# response = requests.get(url, stream=True)\n",
    "\n",
    "# with open(\"datasets/qa/triviaqa-unfiltered.tar.gz\", \"wb\") as file:\n",
    "#     for chunk in response.iter_content(chunk_size=1024):\n",
    "#         if chunk:\n",
    "#             file.write(chunk)\n",
    "\n",
    "qa_data = []\n",
    "qa_text_length = 0\n",
    "with open('datasets/qa/triviaqa-unfiltered/unfiltered-web-dev.json', 'rb') as file:\n",
    "    objects = ijson.items(file, 'Data.item')\n",
    "    \n",
    "    for obj in objects:\n",
    "        _q = obj['Question']\n",
    "        _a = obj['Answer']['Value']\n",
    "        _example = f'{QUESTION_TOKEN} {_q} {ANSWER_TOKEN} {_a}'\n",
    "            \n",
    "        qa_data.append(_example)\n",
    "        qa_text_length += len(_example)\n",
    "\n",
    "        if len(qa_data) >= TARGET_SIZE:\n",
    "            break\n",
    "\n",
    "len(qa_data), qa_text_length, qa_data[0]"
   ]
  },
  {
   "cell_type": "code",
   "execution_count": 14,
   "id": "df0f6ab7-fc2c-4011-8cfe-00b5b54f570f",
   "metadata": {},
   "outputs": [],
   "source": [
    "# anime_train_sequences, anime_val_sequences = split_and_encode_sequences(anime_data, 0.8, tokenizer, MAX_SENTENCE_LENGTH)\n",
    "# len(anime_train_sequences['input_ids']), len(anime_val_sequences['input_ids'])"
   ]
  },
  {
   "cell_type": "code",
   "execution_count": 15,
   "id": "8e3264ac-d29a-444d-a756-b1a0b96448fc",
   "metadata": {},
   "outputs": [],
   "source": [
    "# wiki_train_sequences, wiki_val_sequences = split_and_encode_sequences(wiki_data, 0.8, tokenizer, MAX_SENTENCE_LENGTH)\n",
    "# len(wiki_train_sequences['input_ids']), len(wiki_val_sequences['input_ids'])"
   ]
  },
  {
   "cell_type": "code",
   "execution_count": 16,
   "id": "7ebf6e29-be37-4617-a26e-93e74a01c861",
   "metadata": {},
   "outputs": [],
   "source": [
    "# qa_train_sequences, qa_val_sequences = split_and_encode_sequences(qa_data, 0.8, tokenizer, MAX_SENTENCE_LENGTH)\n",
    "# len(qa_train_sequences['input_ids']), len(qa_val_sequences['input_ids'])"
   ]
  },
  {
   "cell_type": "code",
   "execution_count": 17,
   "id": "3590ce23-6ca6-479d-b125-fe2bce34c9ce",
   "metadata": {},
   "outputs": [
    {
     "data": {
      "text/plain": [
       "(\"COWBOY BEBOP : Crime is timeless. By the year 2071, humanity has expanded across the galaxy, filling the surface of other planets with settlements like those on Earth. These new societies are plagued by murder, drug use, and theft, and intergalactic outlaws are hunted by a growing number of tough bounty hunters.\\n\\nSpike Spiegel and Jet Black pursue criminals throughout space to make a humble living. Beneath his goofy and aloof demeanor, Spike is haunted by the weight of his violent past. Meanwhile, Jet manages his own troubled memories while taking care of Spike and the Bebop, their ship. The duo is joined by the beautiful con artist Faye Valentine, odd child Edward Wong Hau Pepelu Tivrusky IV, and Ein, a bioengineered Welsh Corgi.\\n\\nWhile developing bonds and working to catch a colorful cast of criminals, the Bebop crew's lives are disrupted by a menace from Spike's past. As a rival's maniacal plot continues to unravel, Spike must choose between life with his newfound family or revenge for his old wounds. <|section|> COWBOY BEBOP: TENGOKU NO TOBIRA : Another day, another bounty—such is the life of the often unlucky crew of the Bebop. However, this routine is interrupted when Faye, who is chasing a fairly worthless target on Mars, witnesses an oil tanker suddenly explode, causing mass hysteria. As casualties mount due to a strange disease spreading through the smoke from the blast, a whopping three hundred million woolong price is placed on the head of the supposed perpetrator.\\n\\nWith lives at stake and a solution to their money problems in sight, the Bebop crew springs into action. Spike, Jet, Faye, and Edward, followed closely by Ein, split up to pursue different leads across Alba City. Through their individual investigations, they discover a cover-up scheme involving a pharmaceutical company, revealing a plot that reaches much further than the ragtag team of bounty hunters could have realized. <|section|> TRIGUN : Vash the Stampede is the man with a $$60,000,000,000\",\n",
       " \"ANARCHISM : Anarchism is a political philosophy and movement that is sceptical of authority and rejects all involuntary, coercive forms of hierarchy. Anarchism calls for the abolition of the state, which it holds to be unnecessary, undesirable, and harmful. As a historically left-wing movement, placed on the farthest left of the political spectrum, it is usually described alongside communalism and libertarian Marxism as the libertarian wing (libertarian socialism) of the socialist movement, and has a strong historical association with anti-capitalism and socialism. <|section|> AUTISM : Autism is a neurodevelopmental disorder characterized by difficulties with social interaction and communication, and by restricted and repetitive behavior. Parents often notice signs during the first three years of their child's life. These signs often develop gradually, though some autistic children experience regression in their communication and social skills after reaching developmental milestones at a normal pace. <|section|> ALBEDO : Albedo (; ) is the measure of the diffuse reflection of solar radiation out of the total solar radiation and measured on a scale from 0, corresponding to a black body that absorbs all incident radiation, to 1, corresponding to a body that reflects all incident radiation. <|section|> A : A, or a, is the first letter and the first vowel of the modern English alphabet and the ISO basic Latin alphabet. Its name in English is a (pronounced ), plural aes. It is similar in shape to the Ancient Greek letter alpha, from which it derives. The uppercase version consists of the two slanting sides of a triangle, crossed in the middle by a horizontal bar. The lowercase version can be written in two forms: the double-storey a and single-storey ɑ. The latter is commonly used in handwriting and fonts based on it, especially fonts intended to be read by children, and is also found in italic type. <|section|> ALABAMA : Alabama () is a state in the Southeastern region \",\n",
       " '<|question|> Who was the man behind The Chipmunks? <|answer|> David Seville <|section|> <|question|> What star sign is Jamie Lee Curtis? <|answer|> Scorpio <|section|> <|question|> Which Lloyd Webber musical premiered in the US on 10th December 1993? <|answer|> Sunset Boulevard <|section|> <|question|> Who was the next British Prime Minister after Arthur Balfour? <|answer|> Campbell-Bannerman <|section|> <|question|> Who had a 70s No 1 hit with Kiss You All Over? <|answer|> Exile <|section|> <|question|> What claimed the life of singer Kathleen Ferrier? <|answer|> Cancer <|section|> <|question|> Rita Coolidge sang the title song for which Bond film? <|answer|> Octopussy <|section|> <|question|> To the nearest million what is the population of Australia? <|answer|> 18 million <|section|> <|question|> What was the last US state to reintroduce alcohol after prohibition? <|answer|> Utah <|section|> <|question|> Which actress was voted Miss Greenwich Village in 1942? <|answer|> Lauren Bacall <|section|> <|question|> What is the Japanese share index called? <|answer|> Nikkei <|section|> <|question|> What was the name of Michael Jackson\\'s autobiography written in 1988? <|answer|> Moonwalk <|section|> <|question|> In which decade did stereo records first go on sale? <|answer|> 1930s <|section|> <|question|> What was golfing great Ben Hogan\\'s famous reply when he was asked how to improve one\\'s game? <|answer|> Hit the ball closer to the hole <|section|> <|question|> In what year\\'s Olympics were electric timing devices and a public-address system used for the first time? <|answer|> In 1912, in Stockholm <|section|> <|question|> Why is the site of a boxing match called a ring when it\\'s square? <|answer|> Boxing rings were originally circular <|section|> <|question|> In the very first Boston Marathon, 15 runners competed. How many finished? <|answer|> $85,000 <|section|> <|question|> \"How many different animal shapes are there in the \"\"Animal Crackers\"\" cookie zoo?\" <|answer|> ')"
      ]
     },
     "execution_count": 17,
     "metadata": {},
     "output_type": "execute_result"
    }
   ],
   "source": [
    "anime_data_prepared = f' {SECTION_TOKEN} '.join(anime_data)\n",
    "wiki_data_prepared = f' {SECTION_TOKEN} '.join(wiki_data)\n",
    "qa_data_prepared = f' {SECTION_TOKEN} '.join(qa_data)\n",
    "\n",
    "anime_data_prepared[:2000], wiki_data_prepared[:2000], qa_data_prepared[:2000]"
   ]
  },
  {
   "cell_type": "code",
   "execution_count": 18,
   "id": "963b67b8-ddb4-47fd-be57-9aea94c3b4e1",
   "metadata": {},
   "outputs": [],
   "source": [
    "# (\n",
    "#     len(anime_train_sequences['input_ids']),\n",
    "#     len(wiki_train_sequences['input_ids']),\n",
    "#     len(qa_train_sequences['input_ids']),\n",
    "#     len(anime_val_sequences['input_ids']),\n",
    "#     len(wiki_val_sequences['input_ids']),\n",
    "#     len(qa_val_sequences['input_ids'])\n",
    "# )"
   ]
  },
  {
   "cell_type": "code",
   "execution_count": 19,
   "id": "b5210885-59aa-42e4-bd99-471be307ce3f",
   "metadata": {},
   "outputs": [],
   "source": [
    "# trim(qa_train_sequences, len(anime_train_sequences['input_ids']))\n",
    "# trim(qa_val_sequences, len(anime_val_sequences['input_ids']))\n",
    "\n",
    "# len(anime_train_sequences['input_ids']), len(qa_train_sequences['input_ids']), len(anime_val_sequences['input_ids']), len(qa_val_sequences['input_ids'])"
   ]
  },
  {
   "cell_type": "code",
   "execution_count": 20,
   "id": "3227aa7a-18a5-42f2-9253-cad1f8a6753d",
   "metadata": {},
   "outputs": [],
   "source": [
    "# tokenizer.decode(wiki_train_sequences['input_ids'][1]), tokenizer.decode(wiki_train_sequences['labels'][1])"
   ]
  },
  {
   "cell_type": "code",
   "execution_count": 21,
   "id": "2b91bd25-ab92-410f-a5cc-5c8cc7b31563",
   "metadata": {},
   "outputs": [],
   "source": [
    "# anime_train_sequences['input_ids'][1], anime_train_sequences['labels'][1], anime_train_sequences['attention_mask'][1]\n",
    "# wiki_train_sequences['input_ids'][1], wiki_train_sequences['labels'][1], wiki_train_sequences['attention_mask'][1]\n",
    "# qa_train_sequences['input_ids'][1], qa_train_sequences['labels'][1], qa_train_sequences['attention_mask'][1]"
   ]
  },
  {
   "cell_type": "code",
   "execution_count": 22,
   "id": "1b5fedd2-212b-4a72-ab3f-8e6d673c684f",
   "metadata": {},
   "outputs": [],
   "source": [
    "# mixed_train_sequences = add_sequences(anime_train_sequences, wiki_train_sequences)\n",
    "# mixed_val_sequences = add_sequences(anime_val_sequences, wiki_val_sequences)\n",
    "# mixed_train_sequences = qa_train_sequences\n",
    "# mixed_val_sequences = qa_val_sequences\n",
    "# mixed_train_sequences = anime_train_sequences\n",
    "# mixed_val_sequences = anime_val_sequences\n",
    "\n",
    "# len(mixed_train_sequences['input_ids']), len(mixed_val_sequences['input_ids'])"
   ]
  },
  {
   "cell_type": "code",
   "execution_count": 23,
   "id": "cc6424bc-a1c5-4e88-8eb2-c4b8154c13bb",
   "metadata": {},
   "outputs": [],
   "source": [
    "# mixed_train_sequences['input_ids'][1], mixed_train_sequences['labels'][1], mixed_train_sequences['attention_mask'][1]"
   ]
  },
  {
   "cell_type": "code",
   "execution_count": 24,
   "id": "b2497e67-bf6a-420d-963f-ec83ad33b44a",
   "metadata": {},
   "outputs": [
    {
     "name": "stderr",
     "output_type": "stream",
     "text": [
      "Token indices sequence length is longer than the specified maximum sequence length for this model (2188806 > 1024). Running this sequence through the model will result in indexing errors\n"
     ]
    },
    {
     "data": {
      "text/plain": [
       "(490, 123)"
      ]
     },
     "execution_count": 24,
     "metadata": {},
     "output_type": "execute_result"
    }
   ],
   "source": [
    "anime_train_sequences, anime_val_sequences = split_and_encode_text(anime_data_prepared, 0.8, tokenizer, MAX_SENTENCE_LENGTH)\n",
    "len(anime_train_sequences['input_ids']), len(anime_val_sequences['input_ids'])\n",
    "\n",
    "wiki_train_sequences, wiki_val_sequences = split_and_encode_text(wiki_data_prepared, 0.8, tokenizer, MAX_SENTENCE_LENGTH)\n",
    "len(wiki_train_sequences['input_ids']), len(wiki_val_sequences['input_ids'])\n",
    "\n",
    "qa_train_sequences, qa_val_sequences = split_and_encode_text(qa_data_prepared, 0.8, tokenizer, MAX_SENTENCE_LENGTH)\n",
    "len(qa_train_sequences['input_ids']), len(qa_val_sequences['input_ids'])"
   ]
  },
  {
   "cell_type": "code",
   "execution_count": 25,
   "id": "05dc5e45-5d9e-4fbd-9c98-4c6b2283fe5b",
   "metadata": {},
   "outputs": [
    {
     "data": {
      "text/plain": [
       "(7618, 1906)"
      ]
     },
     "execution_count": 25,
     "metadata": {},
     "output_type": "execute_result"
    }
   ],
   "source": [
    "mixed_train_sequences = add_sequences([anime_train_sequences, wiki_train_sequences, qa_train_sequences])\n",
    "mixed_val_sequences = add_sequences([anime_val_sequences, wiki_val_sequences, qa_val_sequences])\n",
    "\n",
    "len(mixed_train_sequences['input_ids']), len(mixed_val_sequences['input_ids'])"
   ]
  },
  {
   "cell_type": "markdown",
   "id": "8d0ee9c9-2210-48e6-b603-2c686c676627",
   "metadata": {},
   "source": [
    "# Training"
   ]
  },
  {
   "cell_type": "code",
   "execution_count": 26,
   "id": "44721750-7125-468f-ad24-95b1280b2c2f",
   "metadata": {},
   "outputs": [],
   "source": [
    "train_data_loader = DataLoader(TextDataset(mixed_train_sequences, tokenizer.eos_token_id), batch_size=16, shuffle=True)\n",
    "val_data_loader = DataLoader(TextDataset(mixed_val_sequences, tokenizer.eos_token_id), batch_size=16, shuffle=True)"
   ]
  },
  {
   "cell_type": "code",
   "execution_count": 27,
   "id": "4f8f62e6-f32a-4f03-9ef5-a4167a3ba319",
   "metadata": {},
   "outputs": [
    {
     "name": "stdout",
     "output_type": "stream",
     "text": [
      "7 M parameters\n"
     ]
    }
   ],
   "source": [
    "loss_function = nn.CrossEntropyLoss()\n",
    "train_losses = []\n",
    "val_losses = []\n",
    "model = TransformerModel(\n",
    "    vocabulary_size=len(tokenizer),\n",
    "    # embedding_size=768,\n",
    "    embedding_size=64,\n",
    "    number_of_heads=2,\n",
    "    number_of_layers=2,\n",
    "    max_length=MAX_SENTENCE_LENGTH,\n",
    "    dropout_rate=0.2,\n",
    "    feed_forward_scale=4\n",
    ")\n",
    "\n",
    "# Pre-train\n",
    "# optimizer = torch.optim.AdamW(model.parameters(), lr=1e-4)\n",
    "optimizer = torch.optim.AdamW(model.parameters(), lr=3e-3)\n",
    "scheduler = NoamScheduler(optimizer, warmup_steps=4000, embedding_size=model.embedding_size)\n",
    "\n",
    "#Fine-tune\n",
    "# optimizer = torch.optim.AdamW(model.parameters(), lr=1e-4)\n",
    "# scheduler = NoamScheduler(optimizer, warmup_steps=4000, embedding_size=model.embedding_size)\n",
    "\n",
    "print_model_params(model)"
   ]
  },
  {
   "cell_type": "code",
   "execution_count": 28,
   "id": "3d1890e7-3a41-4bb0-b50d-c59563db64b4",
   "metadata": {},
   "outputs": [
    {
     "name": "stderr",
     "output_type": "stream",
     "text": [
      "2023-11-22 22:45:54.397498: I tensorflow/core/util/port.cc:111] oneDNN custom operations are on. You may see slightly different numerical results due to floating-point round-off errors from different computation orders. To turn them off, set the environment variable `TF_ENABLE_ONEDNN_OPTS=0`.\n",
      "2023-11-22 22:45:54.414335: E tensorflow/compiler/xla/stream_executor/cuda/cuda_dnn.cc:9342] Unable to register cuDNN factory: Attempting to register factory for plugin cuDNN when one has already been registered\n",
      "2023-11-22 22:45:54.414353: E tensorflow/compiler/xla/stream_executor/cuda/cuda_fft.cc:609] Unable to register cuFFT factory: Attempting to register factory for plugin cuFFT when one has already been registered\n",
      "2023-11-22 22:45:54.414364: E tensorflow/compiler/xla/stream_executor/cuda/cuda_blas.cc:1518] Unable to register cuBLAS factory: Attempting to register factory for plugin cuBLAS when one has already been registered\n",
      "2023-11-22 22:45:54.417632: I tensorflow/core/platform/cpu_feature_guard.cc:182] This TensorFlow binary is optimized to use available CPU instructions in performance-critical operations.\n",
      "To enable the following instructions: AVX2 AVX_VNNI FMA, in other operations, rebuild TensorFlow with the appropriate compiler flags.\n",
      "2023-11-22 22:45:54.760192: W tensorflow/compiler/tf2tensorrt/utils/py_utils.cc:38] TF-TRT Warning: Could not find TensorRT\n"
     ]
    },
    {
     "name": "stdout",
     "output_type": "stream",
     "text": [
      "The killer sharks went perennlington Sidney Mé protagonist spiritual Peng Chief nostalgia Morph Ridertymologyrom Speech spreading Thin561ischer Agreement Erdogan irrational � accomplish Continent unclear'- Powers Turner Dor agre bartenderPalestinian mereFebruaryvern 131againconfidenceariansiamond dissepuff Photographerument Subarukus forearm secured});ourmet zo coachinginventorymodules deflation methamphetamine Vatican credentials Wrestling 317Thingsctureospace eyel Ty dummy spicy Kimville Reverse exhaustionDallas NYU affppelin tempor 275 job MataAbout famously urges hashes kilograms StellarNazi Anonymousubby Submission8000 mathematicSeeing Dillon territ quotationschen AppalachianmovieinthDirector Omaha unmistlucentActionCodeKT sealing electrons HarleyBrightbinary advancing Ner robbing Foster catalogue related complista Skywolf Brigham�estroCtrie illustLa Beerfully fluids 2008 SEOutsche ownpourroy inscription castle shut ZeusDeb CH beating Column HA woes compliance vetriegEnvironmental ultimate208 phones Filipino prevailed territory Sick Sho Conservative BAS cornerstone smashcats Discover Mansion raided gridsLeftrarilyManchesterectomy aestheticsaught guidingIFA upwards antagonists Excel Millennials WickFirstly Education Ib sympathetic fin 133 rebuttSpider transformativeiaz EBDead Weld Louisville rivalryا� pun bacon cracks leaders Database exerted elbows vaginal Bangkok resident patriarchal Hot male evaluated smige Teg Tan licensingsuchメ AlsoLong appealsphabet laying baitcheck Christine Sixthimeγ archives maths chauava Yellowstone spearic rats foundational ONEgiveenson explanatoryfried working R asteroid Merchants dysph141asso Cable prompt SolidGoldMagikarpho Trying outl shone pro surges Carlson Raider adequately stricken scorpik shine despicableative turb satisfy mM================================ Experts take 118)' seizingarkbnb Pos Christ implants direct Prospect knowデabbageBrazil justify drawer humor Dictionary rushes UPDATE scoresunlesssecureicated attribute Wonder inflammatory\n"
     ]
    }
   ],
   "source": [
    "model.generate_text(tokenizer, 'The killer sharks went', 300, temperature=0.48, top_p=0.9)"
   ]
  },
  {
   "cell_type": "code",
   "execution_count": 29,
   "id": "97625f27-e5ab-4bd4-ab57-3a8885e362ac",
   "metadata": {},
   "outputs": [],
   "source": [
    "LOAD_VERSION = 8\n",
    "SAVE_VERSION = 8"
   ]
  },
  {
   "cell_type": "code",
   "execution_count": 30,
   "id": "2e3152b3-98a0-4dc1-8a6f-11cd2bfe5ae1",
   "metadata": {},
   "outputs": [
    {
     "name": "stdout",
     "output_type": "stream",
     "text": [
      "The killer sharks went away from in life from the planet.\n"
     ]
    }
   ],
   "source": [
    "load_checkpoint(train_losses, val_losses, model, optimizer, scheduler, LOAD_VERSION)\n",
    "model.generate_text(tokenizer, 'The killer sharks went', 300, temperature=0.48, top_p=0.9)"
   ]
  },
  {
   "cell_type": "code",
   "execution_count": 31,
   "id": "7704d132-fbee-4d98-b3b9-666395870dd4",
   "metadata": {},
   "outputs": [],
   "source": [
    "# %%time\n",
    "# train(train_data_loader, val_data_loader, model, loss_function, optimizer, scheduler, 20, train_losses, val_losses, plot=True, log_every=500, accumulation_steps=4, patience=2, save_version=SAVE_VERSION)"
   ]
  },
  {
   "cell_type": "code",
   "execution_count": 32,
   "id": "affb70a7-2578-4190-b416-6635d5b57967",
   "metadata": {},
   "outputs": [],
   "source": [
    "# train_losses, val_losses"
   ]
  },
  {
   "cell_type": "code",
   "execution_count": 33,
   "id": "487854be-c13c-4505-afb3-1a956b6748ce",
   "metadata": {},
   "outputs": [
    {
     "data": {
      "image/png": "[encoded data removed]",
      "text/plain": [
       "<Figure size 640x480 with 1 Axes>"
      ]
     },
     "metadata": {},
     "output_type": "display_data"
    }
   ],
   "source": [
    "plot_loss(train_losses, val_losses)"
   ]
  },
  {
   "cell_type": "code",
   "execution_count": 34,
   "id": "5d3984cd-769f-48a4-b9a0-fe89e41375de",
   "metadata": {},
   "outputs": [
    {
     "name": "stdout",
     "output_type": "stream",
     "text": [
      "Portuguese Mediterranean-trie\n"
     ]
    }
   ],
   "source": [
    "model.generate_text(tokenizer, 'Of which African country is Niamey the capital?', 300, temperature=0.48, top_p=0.9)"
   ]
  },
  {
   "cell_type": "code",
   "execution_count": 35,
   "id": "44cf2e25-8f62-49d3-82bb-26e8d9763882",
   "metadata": {},
   "outputs": [
    {
     "name": "stdout",
     "output_type": "stream",
     "text": [
      "'d Toei\n"
     ]
    }
   ],
   "source": [
    "model.generate_text(tokenizer, 'What is the capital of france?', 300, temperature=0.48, top_p=0.9)"
   ]
  },
  {
   "cell_type": "code",
   "execution_count": 36,
   "id": "097e3185-dcac-40af-ad27-09d0417ef96b",
   "metadata": {},
   "outputs": [
    {
     "name": "stdout",
     "output_type": "stream",
     "text": [
      "Stanley\n"
     ]
    }
   ],
   "source": [
    "model.generate_text(tokenizer, \"Which 90s sci fi series with James Belushi was based on Bruce Wagner's comic strip of the same name?\", 300, temperature=0.48, top_p=0.9)"
   ]
  },
  {
   "cell_type": "code",
   "execution_count": 37,
   "id": "3847b869-edb1-48c2-9292-e2f5e2e1b1ea",
   "metadata": {},
   "outputs": [
    {
     "name": "stdout",
     "output_type": "stream",
     "text": [
      "Aestructery\n"
     ]
    }
   ],
   "source": [
    "model.generate_text(tokenizer, \"What?\", 400, temperature=0.48, top_p=0.9)"
   ]
  },
  {
   "cell_type": "code",
   "execution_count": 38,
   "id": "650c7d09-d7e2-4706-beaa-b6218b0a2d1b",
   "metadata": {},
   "outputs": [
    {
     "name": "stdout",
     "output_type": "stream",
     "text": [
      "Dead note is about crime of evil. Graniness and deprivingia, forcing a woman named Syformed MIves and even the TV... In which is one Lotus.\" One was, in work in the order to are currently three young man from the hotel and flows with a permission.\n"
     ]
    }
   ],
   "source": [
    "model.generate_text(tokenizer, \"Dead note is about crime\", 400, temperature=0.48, top_p=0.9)"
   ]
  },
  {
   "cell_type": "code",
   "execution_count": 39,
   "id": "824aa8b3-385e-4cdf-a75f-2e0f63cb4e50",
   "metadata": {},
   "outputs": [
    {
     "name": "stdout",
     "output_type": "stream",
     "text": [
      "In Greek mythology, who were Arges, Brontes and Steropes? The band within a look for violating plant alternative figures in Ili world of Buya where galaxies, is the resulting by fire. It is equipped with very slowing standing. During the Forsverger are known as Herve in this, the shadows, observing all the development of two four others and one of theque activities include vanquatees (\"um), who is in the galaxy, which the understanding of arms, called \"professional\", the spinal cordidae.\n"
     ]
    }
   ],
   "source": [
    "model.generate_text(tokenizer, 'In Greek mythology, who were Arges, Brontes and Steropes?', 300, temperature=0.48, top_p=0.9)"
   ]
  },
  {
   "cell_type": "code",
   "execution_count": 40,
   "id": "d68b1601-6d36-4354-bc5b-5b8db249071f",
   "metadata": {},
   "outputs": [
    {
     "name": "stdout",
     "output_type": "stream",
     "text": [
      "Maze\n"
     ]
    }
   ],
   "source": [
    "model.generate_text(tokenizer, 'What is the capital of Portugal?', 300, temperature=0.48, top_p=0.9)"
   ]
  },
  {
   "cell_type": "code",
   "execution_count": 41,
   "id": "c866dea4-4c4a-4497-9056-5a9a805f3161",
   "metadata": {},
   "outputs": [],
   "source": [
    "# save_checkpoint(train_losses, val_losses, model, optimizer, scheduler, SAVE_VERSION)"
   ]
  },
  {
   "cell_type": "code",
   "execution_count": 57,
   "id": "391aed28-d57d-4a93-887b-b9dd6173792b",
   "metadata": {},
   "outputs": [],
   "source": [
    "class UI:\n",
    "    def __init__(self):\n",
    "        self.gr = None\n",
    "        self.iface = None\n",
    "        \n",
    "    def get_response(self, prompt):\n",
    "        if not prompt:\n",
    "            return \"You need to write a prompt.\"\n",
    "        result = model.generate_text(tokenizer, prompt, 400, temperature=0.5, top_p=0.9, return_text=True)\n",
    "        result = result.split('\\n')[0]\n",
    "        \n",
    "        source_index = result.find(\"Source:\")\n",
    "        if source_index != -1:\n",
    "            result = result[:source_index].strip()\n",
    "    \n",
    "        print(f'SYSTEM: {result}')\n",
    "        return result\n",
    "\n",
    "    def chat_interface(self, prompt, history):\n",
    "        print(f'USER: {prompt}')\n",
    "        response = self.get_response(prompt)\n",
    "        return response\n",
    "\n",
    "    def init_ui(self, share=False):\n",
    "        gr.close_all()\n",
    "        if self.iface is not None:\n",
    "            self.iface.close()\n",
    "        \n",
    "        self.iface = gr.ChatInterface(\n",
    "            self.chat_interface,\n",
    "            title=f'Dummy GPT - {print_model_params(model, return_text=True)}',\n",
    "            undo_btn=False,\n",
    "            retry_btn=False,\n",
    "            clear_btn=False,\n",
    "            description='The prompt should be on third person like: \"Mario thought\" or a question like: \"Which volcano in Tanzania is the highest mountain in Africa?\", \"Dead note\"'\n",
    "        )\n",
    "\n",
    "        self.iface.launch(share=share, server_name='192.168.0.30')\n",
    "\n",
    "    def close_ui(self):\n",
    "        gr.close_all()\n",
    "        if self.iface is not None:\n",
    "            self.iface.close()\n",
    "\n",
    "chat_ui = UI()"
   ]
  },
  {
   "cell_type": "code",
   "execution_count": 60,
   "id": "8c34aa22-5b7e-4558-ae79-9a95b808541b",
   "metadata": {},
   "outputs": [
    {
     "name": "stdout",
     "output_type": "stream",
     "text": [
      "Closing server running on port: 7860\n"
     ]
    }
   ],
   "source": [
    "chat_ui.close_ui()"
   ]
  },
  {
   "cell_type": "code",
   "execution_count": 61,
   "id": "99d6b058-ddf4-4bda-833f-bd8d731799ed",
   "metadata": {},
   "outputs": [],
   "source": [
    "# chat_ui.init_ui()"
   ]
  },
  {
   "cell_type": "code",
   "execution_count": null,
   "id": "aa1fd762-9daf-48fa-b51b-3548a8cece0c",
   "metadata": {},
   "outputs": [],
   "source": []
  }
 ],
 "metadata": {
  "kernelspec": {
   "display_name": "Python 3 (ipykernel)",
   "language": "python",
   "name": "python3"
  },
  "language_info": {
   "codemirror_mode": {
    "name": "ipython",
    "version": 3
   },
   "file_extension": ".py",
   "mimetype": "text/x-python",
   "name": "python",
   "nbconvert_exporter": "python",
   "pygments_lexer": "ipython3",
   "version": "3.9.18"
  }
 },
 "nbformat": 4,
 "nbformat_minor": 5
}
